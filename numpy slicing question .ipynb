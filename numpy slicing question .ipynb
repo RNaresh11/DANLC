{
 "cells": [
  {
   "cell_type": "code",
   "execution_count": 2,
   "id": "84ae02b0",
   "metadata": {},
   "outputs": [],
   "source": [
    "import numpy as np"
   ]
  },
  {
   "cell_type": "markdown",
   "id": "6b47e45b",
   "metadata": {},
   "source": [
    "Q1  Write a NumPy program to create an array of 10 zeros, 10 ones, and 10 fives"
   ]
  },
  {
   "cell_type": "code",
   "execution_count": 11,
   "id": "a27a9210",
   "metadata": {},
   "outputs": [
    {
     "name": "stdout",
     "output_type": "stream",
     "text": [
      "An Array of 10 Zeroes\n",
      "[0. 0. 0. 0. 0. 0. 0. 0. 0. 0.]\n",
      "An Array of 10 ones\n",
      "[1. 1. 1. 1. 1. 1. 1. 1. 1. 1.]\n",
      "An Array of 10 fives\n",
      "[5 5 5 5 5 5 5 5 5 5]\n"
     ]
    }
   ],
   "source": [
    "print(\"An Array of 10 Zeroes\")\n",
    "zeros  = np.zeros(10)\n",
    "print(zeros)\n",
    "\n",
    "print(\"An Array of 10 ones\n",
    "\")\n",
    "ones  = np.ones(10)\n",
    "print(ones)\n",
    "\n",
    "print(\"An Array of 10 fives\")\n",
    "fives = np.full(10,5)\n",
    "print(fives)"
   ]
  },
  {
   "cell_type": "code",
   "execution_count": null,
   "id": "a51db4d0",
   "metadata": {},
   "outputs": [],
   "source": []
  },
  {
   "cell_type": "markdown",
   "id": "d0c47a70",
   "metadata": {},
   "source": [
    "Q2  Write a NumPy program to create a 3x3 matrix with values ranging from 2 to 10"
   ]
  },
  {
   "cell_type": "code",
   "execution_count": 23,
   "id": "c28b329c",
   "metadata": {},
   "outputs": [
    {
     "name": "stdout",
     "output_type": "stream",
     "text": [
      "[[ 2  3  4]\n",
      " [ 5  6  7]\n",
      " [ 8  9 10]]\n"
     ]
    }
   ],
   "source": [
    "ranges = np.arange(2,11).reshape(3,3)\n",
    "print(ranges)"
   ]
  },
  {
   "cell_type": "code",
   "execution_count": null,
   "id": "fa214f78",
   "metadata": {},
   "outputs": [],
   "source": []
  },
  {
   "cell_type": "markdown",
   "id": "8df23e7b",
   "metadata": {},
   "source": [
    "Q3 Write a NumPy program to create an array with values ranging from 12 to 38."
   ]
  },
  {
   "cell_type": "code",
   "execution_count": 17,
   "id": "ff8ddaab",
   "metadata": {},
   "outputs": [
    {
     "name": "stdout",
     "output_type": "stream",
     "text": [
      "[12 13 14 15 16 17 18 19 20 21 22 23 24 25 26 27 28 29 30 31 32 33 34 35\n",
      " 36 37]\n"
     ]
    }
   ],
   "source": [
    "rangess = np.arange(12,38)\n",
    "print(rangess)"
   ]
  },
  {
   "cell_type": "code",
   "execution_count": null,
   "id": "708707fb",
   "metadata": {},
   "outputs": [],
   "source": []
  },
  {
   "cell_type": "markdown",
   "id": "0347c004",
   "metadata": {},
   "source": [
    "Write a NumPy program to convert a list and tuple into arrays.   \n",
    "Input: my_list = [1, 2, 3, 4, 5, 6, 7, 8]       \n",
    "Input: my_tuple = ([8, 4, 6], [1, 2, 3])"
   ]
  },
  {
   "cell_type": "code",
   "execution_count": 22,
   "id": "da3b2f24",
   "metadata": {},
   "outputs": [
    {
     "name": "stdout",
     "output_type": "stream",
     "text": [
      "List to array: \n",
      "[1 2 3 4 5 6 7 8]\n",
      "\n",
      "\n",
      "Tuple to array: \n",
      "[[8 4 6]\n",
      " [1 2 3]]\n"
     ]
    }
   ],
   "source": [
    "my_list = np.array([1,2,3,4,5,6,7,8])\n",
    "my_tuple = np.array([[8,4,6],[1,2,3]])\n",
    "\n",
    "print(\"List to array: \")\n",
    "print(my_list)\n",
    "\n",
    "print(\"\\n\")\n",
    "\n",
    "print(\"Tuple to array: \")\n",
    "print(my_tuple)"
   ]
  },
  {
   "cell_type": "code",
   "execution_count": null,
   "id": "94d781c1",
   "metadata": {},
   "outputs": [],
   "source": []
  },
  {
   "cell_type": "code",
   "execution_count": null,
   "id": "6b3030d3",
   "metadata": {},
   "outputs": [],
   "source": []
  },
  {
   "cell_type": "code",
   "execution_count": null,
   "id": "8c0cb495",
   "metadata": {},
   "outputs": [],
   "source": []
  },
  {
   "cell_type": "code",
   "execution_count": null,
   "id": "7a5af242",
   "metadata": {},
   "outputs": [],
   "source": []
  }
 ],
 "metadata": {
  "kernelspec": {
   "display_name": "Python 3 (ipykernel)",
   "language": "python",
   "name": "python3"
  },
  "language_info": {
   "codemirror_mode": {
    "name": "ipython",
    "version": 3
   },
   "file_extension": ".py",
   "mimetype": "text/x-python",
   "name": "python",
   "nbconvert_exporter": "python",
   "pygments_lexer": "ipython3",
   "version": "3.11.3"
  }
 },
 "nbformat": 4,
 "nbformat_minor": 5
}
