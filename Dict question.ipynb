{
 "cells": [
  {
   "cell_type": "markdown",
   "id": "04f746a6",
   "metadata": {},
   "source": [
    "Q1 1.\tWrite a Python program and calculate the mean of the below   dictionary.  \n",
    " test_dict = {\"A\" : 6, \"B\" : 9, \"C\" : 5, \"D\" : 7, \"E\" : 4}   \n",
    "Output: 6.2 \n"
   ]
  },
  {
   "cell_type": "code",
   "execution_count": 2,
   "id": "dd3514dc",
   "metadata": {},
   "outputs": [
    {
     "name": "stdout",
     "output_type": "stream",
     "text": [
      "the mean of test dict values are: 6.2\n"
     ]
    }
   ],
   "source": [
    "test_dict = {\"A\" : 6, \"B\" : 9, \"C\" : 5, \"D\" : 7, \"E\" : 4}\n",
    "total = 0\n",
    "for i in test_dict.values():\n",
    "    total = total+i\n",
    "    \n",
    "mean = total/len(test_dict)\n",
    "\n",
    "print(\"the mean of test dict values are:\",mean )"
   ]
  },
  {
   "cell_type": "code",
   "execution_count": null,
   "id": "dded4390",
   "metadata": {},
   "outputs": [],
   "source": []
  },
  {
   "cell_type": "markdown",
   "id": "2da87814",
   "metadata": {},
   "source": [
    "Q2 2.\tWrite a Python script to concatenate the following dictionaries to create a new one.   \n",
    "Sample Dictionary : dic1={1:10, 2:20}   \n",
    "dic2={3:30, 4:40}     \n",
    "dic3={5:50,6:60}    \n",
    "Expected Result : {1: 10, 2: 20, 3: 30, 4: 40, 5: 50, 6: 60}   \n"
   ]
  },
  {
   "cell_type": "code",
   "execution_count": 5,
   "id": "241f98c0",
   "metadata": {},
   "outputs": [
    {
     "name": "stdout",
     "output_type": "stream",
     "text": [
      "the concatenate result is  {1: 10, 2: 20, 3: 30, 4: 40, 5: 50, 6: 60}\n"
     ]
    }
   ],
   "source": [
    "dic1={1:10, 2:20} \n",
    "dic2={3:30, 4:40} \n",
    "dic3={5:50,6:60} \n",
    "\n",
    "\n",
    "result ={}\n",
    "\n",
    "for d in (dic1,dic2,dic3):\n",
    "    for k,v in d.items():\n",
    "        result[k] = v\n",
    "print(\"the concatenate result is \",result)"
   ]
  },
  {
   "cell_type": "code",
   "execution_count": null,
   "id": "88b65bca",
   "metadata": {},
   "outputs": [],
   "source": []
  },
  {
   "cell_type": "markdown",
   "id": "fb24f739",
   "metadata": {},
   "source": [
    "Q3 3.\tWrite a Python program to get the key, value and item in a dictionary.  \n",
    "input:dict_num = {1: 10, 2: 20, 3: 30, 4: 40, 5: 50, 6: 60}    \n"
   ]
  },
  {
   "cell_type": "code",
   "execution_count": 9,
   "id": "be5ffa3f",
   "metadata": {},
   "outputs": [
    {
     "name": "stdout",
     "output_type": "stream",
     "text": [
      "key: 1,values:10\n",
      "key: 2,values:20\n",
      "key: 3,values:30\n",
      "key: 4,values:40\n",
      "key: 5,values:50\n",
      "key: 6,values:60\n"
     ]
    }
   ],
   "source": [
    "dict_num = {1: 10, 2: 20, 3: 30, 4: 40, 5: 50, 6: 60}\n",
    "\n",
    "for k ,v in dict_num.items():\n",
    "    print(f\"key: {k},values:{v}\")"
   ]
  },
  {
   "cell_type": "code",
   "execution_count": null,
   "id": "8a1b0f6e",
   "metadata": {},
   "outputs": [],
   "source": []
  },
  {
   "cell_type": "markdown",
   "id": "afa6ba0d",
   "metadata": {},
   "source": [
    "Q4 4.\tWrite a Python program to get the key, value and item in a dictionary.   \n",
    "Input: input_dict = {1: 10, 2: 20, 3:None, 4: 40, 5: None, 6: 60}   \n",
    "Output:\n"
   ]
  },
  {
   "cell_type": "code",
   "execution_count": 22,
   "id": "f143745b",
   "metadata": {},
   "outputs": [
    {
     "name": "stdout",
     "output_type": "stream",
     "text": [
      "1 10\n",
      "2 20\n",
      "4 40\n",
      "6 60\n"
     ]
    }
   ],
   "source": [
    "input_dict = {1: 10, 2: 20, 3: None, 4: 40, 5: None, 6: 60}\n",
    "\n",
    "cleaned_dict = {key: value for key, value in input_dict.items() if value is not None}\n",
    "\n",
    "for key, value in cleaned_dict.items():\n",
    "    print(key,value)\n"
   ]
  },
  {
   "cell_type": "code",
   "execution_count": null,
   "id": "6be64423",
   "metadata": {},
   "outputs": [],
   "source": []
  }
 ],
 "metadata": {
  "kernelspec": {
   "display_name": "Python 3 (ipykernel)",
   "language": "python",
   "name": "python3"
  },
  "language_info": {
   "codemirror_mode": {
    "name": "ipython",
    "version": 3
   },
   "file_extension": ".py",
   "mimetype": "text/x-python",
   "name": "python",
   "nbconvert_exporter": "python",
   "pygments_lexer": "ipython3",
   "version": "3.11.3"
  }
 },
 "nbformat": 4,
 "nbformat_minor": 5
}
