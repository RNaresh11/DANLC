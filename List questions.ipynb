{
 "cells": [
  {
   "cell_type": "markdown",
   "id": "807a026c",
   "metadata": {},
   "source": [
    "Q1 Write a Python program to sum all the items in a list. "
   ]
  },
  {
   "cell_type": "code",
   "execution_count": 3,
   "id": "eed460e9",
   "metadata": {},
   "outputs": [
    {
     "name": "stdout",
     "output_type": "stream",
     "text": [
      "21\n"
     ]
    }
   ],
   "source": [
    "item = [1,2,3,4,5,6]\n",
    "\n",
    "total =0 \n",
    "\n",
    "for value in item:\n",
    "    total=  total + value\n",
    "    \n",
    "print(total)"
   ]
  },
  {
   "cell_type": "code",
   "execution_count": null,
   "id": "f0eadad0",
   "metadata": {},
   "outputs": [],
   "source": []
  },
  {
   "cell_type": "markdown",
   "id": "7319254c",
   "metadata": {},
   "source": [
    "Q2 Write a Python program to get the largest and smallest number from a list without builtin functions"
   ]
  },
  {
   "cell_type": "code",
   "execution_count": 11,
   "id": "a4e1629e",
   "metadata": {},
   "outputs": [
    {
     "name": "stdout",
     "output_type": "stream",
     "text": [
      "10\n",
      "2\n"
     ]
    }
   ],
   "source": [
    "list1 = [10,5,3,4,5,2,6,7]\n",
    "\n",
    "max1 = list1[0]\n",
    "min1 = list1[0]\n",
    "\n",
    "for i in list1:\n",
    "    if i > max1:\n",
    "        max1 = i\n",
    "    if i < min1:\n",
    "        min1 = i\n",
    "print(max1)\n",
    "print(min1)"
   ]
  },
  {
   "cell_type": "code",
   "execution_count": null,
   "id": "4379fa78",
   "metadata": {},
   "outputs": [],
   "source": []
  },
  {
   "cell_type": "markdown",
   "id": "865e0455",
   "metadata": {},
   "source": [
    "Q3 Write a Python program to find duplicate values from a list and display those. "
   ]
  },
  {
   "cell_type": "code",
   "execution_count": 13,
   "id": "5faf7954",
   "metadata": {},
   "outputs": [
    {
     "name": "stdout",
     "output_type": "stream",
     "text": [
      "repeater values are:  [3, 1, 5]\n"
     ]
    }
   ],
   "source": [
    "list2 = [3, 1, 4, 1, 5, 9, 2, 6, 5, 3]\n",
    "\n",
    "repeat = []\n",
    "\n",
    "for i in range(len(list2)):\n",
    "    for j in range(i+1,len(list2)):\n",
    "        if list2[i] == list2[j] and list2[i] not in repeat:\n",
    "            repeat.append(list2[i])\n",
    "            \n",
    "print(\"repeater values are: \",repeat)"
   ]
  },
  {
   "cell_type": "code",
   "execution_count": null,
   "id": "7ae98e86",
   "metadata": {},
   "outputs": [],
   "source": []
  },
  {
   "cell_type": "markdown",
   "id": "e3cf14c2",
   "metadata": {},
   "source": [
    "Q3 Write a Python program to split a given list into two parts where the length of the first part of the list is given. \n",
    "Original list: [1, 1, 2, 3, 4, 4, 5, 1] \n",
    "Length of the first part of the list: 3 \n"
   ]
  },
  {
   "cell_type": "code",
   "execution_count": 15,
   "id": "59175084",
   "metadata": {},
   "outputs": [
    {
     "name": "stdout",
     "output_type": "stream",
     "text": [
      "First split is:  [1, 1, 2]\n",
      "Second split is:  [3, 4, 4, 5, 1]\n"
     ]
    }
   ],
   "source": [
    "org_list = [1, 1, 2, 3, 4, 4, 5, 1] \n",
    "first_part_len = 3\n",
    "\n",
    "first_part =[]\n",
    "second_part =[]\n",
    "\n",
    "for i in range(len(org_list)):\n",
    "    if i <first_part_len:\n",
    "        first_part.append(org_list[i])\n",
    "    else :\n",
    "        second_part.append(org_list[i])\n",
    "        \n",
    "print(\"First split is: \",first_part)\n",
    "print(\"Second split is: \",second_part)"
   ]
  },
  {
   "cell_type": "code",
   "execution_count": null,
   "id": "ecc7c191",
   "metadata": {},
   "outputs": [],
   "source": []
  },
  {
   "cell_type": "markdown",
   "id": "26670055",
   "metadata": {},
   "source": [
    "Q4 Write a Python program to traverse a given list in reverse order, and print the elements with the original index. \n",
    "Original list: ['red', 'green', 'white', 'black'] \n",
    "Traverse the said list in reverse order: \n",
    "black \n",
    "white \n",
    "green \n",
    "red\n"
   ]
  },
  {
   "cell_type": "code",
   "execution_count": null,
   "id": "de09a513",
   "metadata": {},
   "outputs": [],
   "source": []
  },
  {
   "cell_type": "code",
   "execution_count": 24,
   "id": "cb8cf72c",
   "metadata": {},
   "outputs": [
    {
     "name": "stdout",
     "output_type": "stream",
     "text": [
      "Traverse the said list in reverse order:\n",
      "Index 3: black\n",
      "Index 2: white\n",
      "Index 1: green\n",
      "Index 0: red\n"
     ]
    }
   ],
   "source": [
    "original_list = ['red', 'green', 'white', 'black']\n",
    "\n",
    "print(\"Traverse the said list in reverse order:\")\n",
    "\n",
    "for i in range(len(original_list) - 1, -1, -1):\n",
    "    \n",
    "    print(f\"Index {i}: {original_list[i]}\")"
   ]
  },
  {
   "cell_type": "code",
   "execution_count": null,
   "id": "9903a9f2",
   "metadata": {},
   "outputs": [],
   "source": []
  },
  {
   "cell_type": "code",
   "execution_count": null,
   "id": "3ab304db",
   "metadata": {},
   "outputs": [],
   "source": []
  },
  {
   "cell_type": "code",
   "execution_count": null,
   "id": "77214467",
   "metadata": {},
   "outputs": [],
   "source": []
  }
 ],
 "metadata": {
  "kernelspec": {
   "display_name": "Python 3 (ipykernel)",
   "language": "python",
   "name": "python3"
  },
  "language_info": {
   "codemirror_mode": {
    "name": "ipython",
    "version": 3
   },
   "file_extension": ".py",
   "mimetype": "text/x-python",
   "name": "python",
   "nbconvert_exporter": "python",
   "pygments_lexer": "ipython3",
   "version": "3.11.3"
  }
 },
 "nbformat": 4,
 "nbformat_minor": 5
}
