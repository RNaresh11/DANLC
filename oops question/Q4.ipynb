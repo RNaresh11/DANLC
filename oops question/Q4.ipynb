{
 "cells": [
  {
   "cell_type": "markdown",
   "id": "664a147b",
   "metadata": {},
   "source": [
    "Python program that accepts a string and calculates the number of digits and letters."
   ]
  },
  {
   "cell_type": "code",
   "execution_count": 4,
   "id": "0de4f68e",
   "metadata": {},
   "outputs": [
    {
     "name": "stdout",
     "output_type": "stream",
     "text": [
      "Enter the string: nare34343haies\n",
      "number of digits are 5 and number of letters are 9\n"
     ]
    }
   ],
   "source": [
    "class countdigitletter:\n",
    "    \n",
    "    def __init__(self,string):\n",
    "        self.string = string\n",
    "    \n",
    "    def count(self):\n",
    "        digit =0\n",
    "        letter =0\n",
    "        for char in string:\n",
    "            if char.isdigit():\n",
    "                digit +=1\n",
    "            elif char.isalpha():\n",
    "                letter +=1\n",
    "        counted = print(f\"number of digits are {digit} and number of letters are {letter}\")\n",
    "        \n",
    "string = input(\"Enter the string: \")\n",
    "obj = countdigitletter(string)\n",
    "obj.count()"
   ]
  }
 ],
 "metadata": {
  "kernelspec": {
   "display_name": "Python 3 (ipykernel)",
   "language": "python",
   "name": "python3"
  },
  "language_info": {
   "codemirror_mode": {
    "name": "ipython",
    "version": 3
   },
   "file_extension": ".py",
   "mimetype": "text/x-python",
   "name": "python",
   "nbconvert_exporter": "python",
   "pygments_lexer": "ipython3",
   "version": "3.11.3"
  }
 },
 "nbformat": 4,
 "nbformat_minor": 5
}
