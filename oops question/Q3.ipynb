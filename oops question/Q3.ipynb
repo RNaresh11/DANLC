{
 "cells": [
  {
   "cell_type": "markdown",
   "id": "c831c771",
   "metadata": {},
   "source": [
    "Python program to display all numbers within a range except the prime numbers."
   ]
  },
  {
   "cell_type": "code",
   "execution_count": 3,
   "id": "29ab8f1c",
   "metadata": {},
   "outputs": [
    {
     "name": "stdout",
     "output_type": "stream",
     "text": [
      "Enter the starting number: 1\n",
      "Entert the ending number: 10\n"
     ]
    },
    {
     "data": {
      "text/plain": [
       "<bound method RangeExcludingprimes.displayNumbers of <__main__.RangeExcludingprimes object at 0x0000021323837290>>"
      ]
     },
     "execution_count": 3,
     "metadata": {},
     "output_type": "execute_result"
    }
   ],
   "source": [
    "class RangeExcludingprimes:\n",
    "    \n",
    "    def __init__(self,start,end):\n",
    "        self.start = start\n",
    "        self.end = end\n",
    "    \n",
    "    def is_prime(self,num):\n",
    "        if num<2:\n",
    "            return False\n",
    "        for i in range(2, int(num**0.5)+1):\n",
    "            if num%i ==0:\n",
    "                return False\n",
    "        return True\n",
    "    def displayNumbers(self):\n",
    "        for num in range(self.start,self.end+1):\n",
    "            if not self.is_prime(num):\n",
    "                print(num,end=\" \")\n",
    "\n",
    "start = int(input(\"Enter the starting number: \"))\n",
    "end = int(input(\"Entert the ending number: \"))\n",
    "\n",
    "range = RangeExcludingprimes(start,end)\n",
    "range.displayNumbers"
   ]
  },
  {
   "cell_type": "code",
   "execution_count": null,
   "id": "0dd2b4be",
   "metadata": {},
   "outputs": [],
   "source": []
  },
  {
   "cell_type": "code",
   "execution_count": null,
   "id": "9bde6b3e",
   "metadata": {},
   "outputs": [],
   "source": []
  },
  {
   "cell_type": "code",
   "execution_count": null,
   "id": "4b71fd99",
   "metadata": {},
   "outputs": [],
   "source": []
  },
  {
   "cell_type": "code",
   "execution_count": null,
   "id": "6df45df8",
   "metadata": {},
   "outputs": [],
   "source": []
  },
  {
   "cell_type": "code",
   "execution_count": null,
   "id": "2079eff7",
   "metadata": {},
   "outputs": [],
   "source": []
  }
 ],
 "metadata": {
  "kernelspec": {
   "display_name": "Python 3 (ipykernel)",
   "language": "python",
   "name": "python3"
  },
  "language_info": {
   "codemirror_mode": {
    "name": "ipython",
    "version": 3
   },
   "file_extension": ".py",
   "mimetype": "text/x-python",
   "name": "python",
   "nbconvert_exporter": "python",
   "pygments_lexer": "ipython3",
   "version": "3.11.3"
  }
 },
 "nbformat": 4,
 "nbformat_minor": 5
}
