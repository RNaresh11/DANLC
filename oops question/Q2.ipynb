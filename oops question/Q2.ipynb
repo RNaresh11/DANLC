{
 "cells": [
  {
   "cell_type": "markdown",
   "id": "15027499",
   "metadata": {},
   "source": [
    "Python program that accepts a word from the user and reverses it."
   ]
  },
  {
   "cell_type": "code",
   "execution_count": 3,
   "id": "a569f3be",
   "metadata": {},
   "outputs": [
    {
     "name": "stdout",
     "output_type": "stream",
     "text": [
      "Enter the word: naresh\n",
      "the reverse of the word is:  hseran\n"
     ]
    }
   ],
   "source": [
    "class reverseword:\n",
    "    \n",
    "    def __init__(self,word):\n",
    "        self.word = word\n",
    "        \n",
    "    def reversing(self):\n",
    "        reversedword = word[::-1]\n",
    "        print(\"the reverse of the word is: \",reversedword)\n",
    "inp = input(\"Enter the word: \")\n",
    "\n",
    "obj = reverseword(inp)\n",
    "obj.reversing()"
   ]
  },
  {
   "cell_type": "code",
   "execution_count": null,
   "id": "544cea60",
   "metadata": {},
   "outputs": [],
   "source": []
  },
  {
   "cell_type": "code",
   "execution_count": null,
   "id": "6c992db0",
   "metadata": {},
   "outputs": [],
   "source": []
  },
  {
   "cell_type": "code",
   "execution_count": null,
   "id": "1a7bcb32",
   "metadata": {},
   "outputs": [],
   "source": []
  }
 ],
 "metadata": {
  "kernelspec": {
   "display_name": "Python 3 (ipykernel)",
   "language": "python",
   "name": "python3"
  },
  "language_info": {
   "codemirror_mode": {
    "name": "ipython",
    "version": 3
   },
   "file_extension": ".py",
   "mimetype": "text/x-python",
   "name": "python",
   "nbconvert_exporter": "python",
   "pygments_lexer": "ipython3",
   "version": "3.11.3"
  }
 },
 "nbformat": 4,
 "nbformat_minor": 5
}
