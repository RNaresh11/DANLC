{
 "cells": [
  {
   "cell_type": "markdown",
   "id": "626303ba",
   "metadata": {},
   "source": [
    "Python program to count the total number of digits in a number."
   ]
  },
  {
   "cell_type": "code",
   "execution_count": 1,
   "id": "293b8a16",
   "metadata": {},
   "outputs": [
    {
     "name": "stdout",
     "output_type": "stream",
     "text": [
      "enter the number: 12345\n",
      "The length of the number is  5\n"
     ]
    }
   ],
   "source": [
    "class countdigit:\n",
    "    \n",
    "    def __init__(self,number):\n",
    "        self.number = number\n",
    "    \n",
    "    def count_digit(self):\n",
    "        number = abs(self.number)\n",
    "        \n",
    "        length= len(str(number))\n",
    "        print(\"The length of the number is \",length)\n",
    "\n",
    "num = int(input(\"enter the number: \"))\n",
    "\n",
    "obj = countdigit(num)\n",
    "obj.count_digit()"
   ]
  }
 ],
 "metadata": {
  "kernelspec": {
   "display_name": "Python 3 (ipykernel)",
   "language": "python",
   "name": "python3"
  },
  "language_info": {
   "codemirror_mode": {
    "name": "ipython",
    "version": 3
   },
   "file_extension": ".py",
   "mimetype": "text/x-python",
   "name": "python",
   "nbconvert_exporter": "python",
   "pygments_lexer": "ipython3",
   "version": "3.11.3"
  }
 },
 "nbformat": 4,
 "nbformat_minor": 5
}
